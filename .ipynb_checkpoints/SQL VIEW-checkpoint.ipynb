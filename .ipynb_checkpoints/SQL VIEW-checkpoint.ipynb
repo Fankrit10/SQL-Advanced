{
 "cells": [
  {
   "cell_type": "markdown",
   "id": "c3893fa7",
   "metadata": {},
   "source": [
    "Elaborado por Fabian Niño"
   ]
  },
  {
   "cell_type": "code",
   "execution_count": null,
   "id": "708c01b5",
   "metadata": {},
   "outputs": [],
   "source": [
    "#Creacion de nuevas vistas con algunas columnas\n",
    "CREATE VIEW EMPSALARY AS SELECT EMP_ID, F_NAME, L_NAME, B_DATE, SEX, SALARY FROM EMPLOYEES;"
   ]
  }
 ],
 "metadata": {
  "kernelspec": {
   "display_name": "Python 3 (ipykernel)",
   "language": "python",
   "name": "python3"
  },
  "language_info": {
   "codemirror_mode": {
    "name": "ipython",
    "version": 3
   },
   "file_extension": ".py",
   "mimetype": "text/x-python",
   "name": "python",
   "nbconvert_exporter": "python",
   "pygments_lexer": "ipython3",
   "version": "3.9.12"
  }
 },
 "nbformat": 4,
 "nbformat_minor": 5
}
